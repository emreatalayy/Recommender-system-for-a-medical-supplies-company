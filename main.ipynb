{
 "cells": [
  {
   "cell_type": "markdown",
   "id": "65ef52a5-5af6-44a8-9cd2-c99caa1051b4",
   "metadata": {},
   "source": [
    "# Gerekli Kütüphanelerin Eklenmesi"
   ]
  },
  {
   "cell_type": "code",
   "execution_count": 1,
   "id": "f1ab5cd9-3cb8-47e7-aa56-4fce604e174e",
   "metadata": {},
   "outputs": [],
   "source": [
    "import pandas as pd\n",
    "import numpy as np\n",
    "from sklearn.metrics.pairwise import cosine_similarity\n",
    "from sklearn.feature_extraction.text import TfidfVectorizer\n",
    "from scipy.sparse.linalg import svds"
   ]
  },
  {
   "cell_type": "markdown",
   "id": "d33796c1-de51-4ff8-aab1-7cd0f27386bd",
   "metadata": {},
   "source": [
    "# Veri Setinin yüklenmesi"
   ]
  },
  {
   "cell_type": "code",
   "execution_count": 2,
   "id": "f83280b3-5c7c-4182-b844-fbbf2955d773",
   "metadata": {},
   "outputs": [],
   "source": [
    "data = pd.read_csv('PBL 5 recommendation data.csv', encoding='ISO-8859-1',low_memory=False)"
   ]
  },
  {
   "cell_type": "code",
   "execution_count": 3,
   "id": "8ce9bcd8-00ff-48ec-aff5-18d5386a47e8",
   "metadata": {},
   "outputs": [
    {
     "name": "stdout",
     "output_type": "stream",
     "text": [
      "Columns in dataset: ['Customers.id', 'Customers.fname', 'Customers.lname', 'Customers.company', 'Customers.create_date', 'Customers.status', 'Customers.mailing', 'Customers.reminders', 'Customers.tax_exempt', 'Customers.account_id', 'Customers.sales_rep', 'Customers.rewards', 'Customers.profile_id', 'Customers.last_modified', 'Customers.customer_type', 'Orders.id', 'Orders.customer_id', 'Orders.fname', 'Orders.lname', 'Orders.company', 'Orders.order_number', 'Orders.reorder_id', 'Orders.external_source', 'Orders.external_id', 'Orders.currency', 'Orders.sales_rep', 'Orders.subtotal', 'Orders.tax', 'Orders.shipping', 'Orders.coupon_id', 'Orders.coupon_amount', 'Orders.gift_id', 'Orders.gift_amount', 'Orders.fee_name', 'Orders.fee_amount', 'Orders.discount_name', 'Orders.discount_amount', 'Orders.total', 'Orders.balance_due', 'Orders.shipping_carrier', 'Orders.shipping_method', 'Orders.shipping_trans', 'Orders.shipping_flags', 'Orders.weight', 'Orders.tracking', 'Orders.payment_status', 'Orders.payment_date', 'Orders.payment_user', 'Orders.payment_type', 'Orders.payment_method', 'Orders.payment_amount', 'Orders.purchase_order', 'Orders.payment_id', 'Orders.payment_code', 'Orders.payment_ref', 'Orders.status', 'Orders.placed_date', 'Orders.updated_date', 'Orders.shipped_date', 'Orders.comments', 'Orders.notes', 'Orders.registry_id', 'Orders.gift_message', 'Orders.website', 'Orders.mailing', 'Orders.flags', 'Orders.partial_ship', 'Orders.customer_type', 'Order_Items.id', 'Order_Items.parent', 'Order_Items.product_id', 'Order_Items.product_name', 'Order_Items.attributes', 'Order_Items.attribute_names', 'Order_Items.attribute_prices', 'Order_Items.qty', 'Order_Items.price', 'Order_Items.cost', 'Order_Items.registry_item', 'Order_Items.related_id', 'Order_Items.reorder_frequency', 'Order_Items.account_id', 'Order_Items.flags', 'Products.id', 'Products.status', 'Products.product_type', 'Products.template', 'Products.vendor', 'Products.import_id', 'Products.name', 'Products.display_name', 'Products.menu_name', 'Products.list_price', 'Products.price', 'Products.sale_price', 'Products.cost', 'Products.flags', 'Products.left_flag', 'Products.right_flag', 'Products.last_modified', 'Products.taxable', 'Products.shopping_gtin', 'Products.shopping_brand', 'Products.shopping_mpn', 'Products.shopping_gender', 'Products.shopping_color', 'Products.shopping_age', 'Products.shopping_flags', 'Products.amazon_asin', 'Products.amazon_type', 'Products.amazon_item_type', 'Products.amazon_price', 'Products.google_shopping_id', 'Products.google_shopping_type', 'Products.google_shopping_cat', 'Products.google_adwords', 'Products.shopping_cat', 'Products.shopping_type', 'Products.pricegrabber_cat', 'Products.shopzilla_cat', 'Products.thefind_cat', 'Products.quickbooks_id', 'Products.qb_edit_sequence', 'Products.price_break_type', 'Products.price_breaks', 'Products.short_description', 'Products.long_description', 'Products.websites', 'Products.video', 'Products.audio', 'Products.seo_title', 'Products.seo_description', 'Products.seo_keywords', 'Products.seo_header', 'Products.seo_footer', 'Products.seo_url', 'Products.seo_category', 'Products.unit', 'Products.packaging', 'Products.display_packaging', 'Products.multiple', 'Products.length', 'Products.width', 'Products.height', 'Products.rx', 'Products.latex', 'Products.upc', 'Products.msds_link', 'Products.msds_label', 'Products.lit_link', 'Products.lit_label', 'Products.hcpcs', 'Products.case_qty', 'Products.markup', 'Products.override_markup', 'Products.notes', 'Products.import_flags', 'Products.map_price', 'Products.features_title', 'Products.warranty', 'Products.hygienic', 'Products.default_quantity', 'Products.user_size', 'Products.assembly', 'Products.installation', 'Products.shipping_length', 'Products.shipping_width', 'Products.shipping_height', 'Products.shipping_weight', 'Products.handling_time', 'Products.rotation_link', 'Products.google_shopping_label', 'Products.product_option', 'Products.size', 'Products.material', 'Products.arm_style', 'Products.leg_style', 'Products.seat_size', 'Products.family_id', 'Products.saved_status', 'Products.freight_cost']\n"
     ]
    }
   ],
   "source": [
    "# Veri setinde kolonlar hakkında çok fazla hata aldığım için kolonları yazdırdım\n",
    "print(\"Columns in dataset:\", data.columns.tolist())"
   ]
  },
  {
   "cell_type": "code",
   "execution_count": 4,
   "id": "a2d374d0-453f-4e0a-9707-1e06d6a53742",
   "metadata": {},
   "outputs": [
    {
     "data": {
      "text/plain": [
       "Customers.fname       None\n",
       "Customers.lname       None\n",
       "Customers.company     None\n",
       "Orders.fname          None\n",
       "Orders.lname          None\n",
       "                      ... \n",
       "Products.size         None\n",
       "Products.material     None\n",
       "Products.arm_style    None\n",
       "Products.seat_size    None\n",
       "Products.family_id    None\n",
       "Length: 73, dtype: object"
      ]
     },
     "execution_count": 4,
     "metadata": {},
     "output_type": "execute_result"
    }
   ],
   "source": [
    "data.fillna(data.mean(numeric_only=True), inplace=True)  # sayısal kolonlar için\n",
    "data.select_dtypes(include=['object']).apply(lambda x: x.fillna(x.mode()[0], inplace=True))"
   ]
  },
  {
   "cell_type": "markdown",
   "id": "9a797cdc-9752-4242-9755-611b8394286c",
   "metadata": {},
   "source": [
    "# En popüler ürünleri satış hacmine ve dolar tutarına göre hesaplama"
   ]
  },
  {
   "cell_type": "code",
   "execution_count": 5,
   "id": "7d1b83c1-cca1-4790-a9e0-5cdcdd90567a",
   "metadata": {},
   "outputs": [],
   "source": [
    "data['total_dollar_amount'] = data['Order_Items.qty'] * data['Order_Items.price']\n",
    "most_popular_by_volume = data.groupby('Order_Items.product_id')['Order_Items.qty'].sum().idxmax()\n",
    "most_popular_by_dollar = data.groupby('Order_Items.product_id')['total_dollar_amount'].sum().idxmax()"
   ]
  },
  {
   "cell_type": "markdown",
   "id": "12b6812d-eef5-40f6-bf7c-7cfe43dae98f",
   "metadata": {},
   "source": [
    "# Maksimum satın alma işlemi gerçekleştiren şirketi belirleme"
   ]
  },
  {
   "cell_type": "code",
   "execution_count": 6,
   "id": "695e7550-2820-492a-a55e-531170de05a7",
   "metadata": {},
   "outputs": [],
   "source": [
    "company_max_purchase = data.groupby('Customers.company')['total_dollar_amount'].sum().idxmax()"
   ]
  },
  {
   "cell_type": "code",
   "execution_count": 7,
   "id": "9b7d089d-640e-4238-90e0-e636d55ebe04",
   "metadata": {},
   "outputs": [
    {
     "name": "stdout",
     "output_type": "stream",
     "text": [
      "Most popular product by volume: 4451.426162370513\n"
     ]
    }
   ],
   "source": [
    "print(\"Most popular product by volume:\", most_popular_by_volume)"
   ]
  },
  {
   "cell_type": "code",
   "execution_count": 8,
   "id": "276fbede-9ff9-495f-ab1b-c265ee797b2e",
   "metadata": {},
   "outputs": [
    {
     "name": "stdout",
     "output_type": "stream",
     "text": [
      "Most popular product by dollar amount: 1846.0\n"
     ]
    }
   ],
   "source": [
    "print(\"Most popular product by dollar amount:\", most_popular_by_dollar)"
   ]
  },
  {
   "cell_type": "code",
   "execution_count": 9,
   "id": "c2059fa2-fe69-4805-b31b-26951dd8cf00",
   "metadata": {},
   "outputs": [
    {
     "name": "stdout",
     "output_type": "stream",
     "text": [
      "Company with maximum purchase: Company59\n"
     ]
    }
   ],
   "source": [
    "print(\"Company with maximum purchase:\", company_max_purchase)"
   ]
  },
  {
   "cell_type": "markdown",
   "id": "4c05bb16-1669-4b15-9dd2-fd4469055c3c",
   "metadata": {},
   "source": [
    "# Popülerlik Önerisi"
   ]
  },
  {
   "cell_type": "code",
   "execution_count": 10,
   "id": "041e2e87-3703-4438-bcb2-6a5648342184",
   "metadata": {},
   "outputs": [
    {
     "name": "stdout",
     "output_type": "stream",
     "text": [
      "Top 10 popular products by volume: Order_Items.product_id\n",
      "4451.426162    607\n",
      "1846.000000    396\n",
      "2107.000000    228\n",
      "1672.000000    220\n",
      "1648.000000    133\n",
      "1842.000000    112\n",
      "493.000000     106\n",
      "911.000000      68\n",
      "910.000000      68\n",
      "1469.000000     68\n",
      "Name: Order_Items.qty, dtype: int64\n"
     ]
    }
   ],
   "source": [
    "popularity_based_data = data.groupby('Order_Items.product_id')['Order_Items.qty'].sum().sort_values(ascending=False).head(10)\n",
    "print(\"Top 10 popular products by volume:\", popularity_based_data)"
   ]
  },
  {
   "cell_type": "markdown",
   "id": "e9a6a22a-a048-4b1d-b1b1-92f7242d4af1",
   "metadata": {},
   "source": [
    "# TF-IDF ve Kosinüs Benzerliğini kullanarak içerik tabanlı bir Öneri Aracı oluşturma"
   ]
  },
  {
   "cell_type": "code",
   "execution_count": 11,
   "id": "01ed7328-4cbe-4536-b217-029d9685a996",
   "metadata": {},
   "outputs": [],
   "source": [
    "tfidf = TfidfVectorizer(stop_words='english')\n",
    "tfidf_matrix = tfidf.fit_transform(data['Products.long_description'].dropna())\n",
    "cosine_sim = cosine_similarity(tfidf_matrix, tfidf_matrix)"
   ]
  },
  {
   "cell_type": "code",
   "execution_count": 12,
   "id": "bcd83f24-3e5d-4448-b4a5-4af62fdb7fd3",
   "metadata": {},
   "outputs": [],
   "source": [
    "def product_recommendations(product_index, cosine_sim=cosine_sim, products=data):\n",
    "    sim_scores = list(enumerate(cosine_sim[product_index]))\n",
    "    sim_scores = sorted(sim_scores, key=lambda x: x[1], reverse=True)\n",
    "    sim_scores = sim_scores[1:11]  # Gets the top 10 similar items\n",
    "    product_indices = [i[0] for i in sim_scores]\n",
    "    return products.iloc[product_indices]['Products.name']"
   ]
  },
  {
   "cell_type": "markdown",
   "id": "ae0a6115-8f75-4c68-8aff-8d790a0a817b",
   "metadata": {},
   "source": [
    "# Örnek kullanım"
   ]
  },
  {
   "cell_type": "code",
   "execution_count": 13,
   "id": "b3504f1d-fbb7-438d-99d6-63b0fca05167",
   "metadata": {},
   "outputs": [
    {
     "name": "stdout",
     "output_type": "stream",
     "text": [
      "Recommended products based on content similarity: 770                                 Portable Shower Bench\n",
      "798                       CURAD A and D Ointment,0.017 OZ\n",
      "1037                                Comfort Foam Cushions\n",
      "1360    Remedy Phytoplex Hydrating Cleansing Gel,16.00 OZ\n",
      "1452    Four Wheel Walker Rollator with Fold Up Remova...\n",
      "1476                    Bariatric Rollator with 8\" Wheels\n",
      "1524                            Guardian Forearm Crutches\n",
      "1782         Triangular Intake/Output Containers,960.0 ML\n",
      "1807               Lightweight Steel Transport Wheelchair\n",
      "1884                                 Standard Trapeze Bar\n",
      "Name: Products.name, dtype: object\n"
     ]
    }
   ],
   "source": [
    "\n",
    "recommendations = product_recommendations(0)\n",
    "print(\"Recommended products based on content similarity:\", recommendations)"
   ]
  },
  {
   "cell_type": "code",
   "execution_count": null,
   "id": "07092f50-bbfa-4b38-ae65-76984e662096",
   "metadata": {},
   "outputs": [],
   "source": []
  }
 ],
 "metadata": {
  "kernelspec": {
   "display_name": "Python 3 (ipykernel)",
   "language": "python",
   "name": "python3"
  },
  "language_info": {
   "codemirror_mode": {
    "name": "ipython",
    "version": 3
   },
   "file_extension": ".py",
   "mimetype": "text/x-python",
   "name": "python",
   "nbconvert_exporter": "python",
   "pygments_lexer": "ipython3",
   "version": "3.11.4"
  }
 },
 "nbformat": 4,
 "nbformat_minor": 5
}
